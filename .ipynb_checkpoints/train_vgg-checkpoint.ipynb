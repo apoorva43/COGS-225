{
 "cells": [
  {
   "cell_type": "code",
   "execution_count": 12,
   "metadata": {},
   "outputs": [],
   "source": [
    "# Transfer Learning on VGG 16\n",
    "\n",
    "import warnings\n",
    "warnings.simplefilter('ignore')"
   ]
  },
  {
   "cell_type": "code",
   "execution_count": 13,
   "metadata": {},
   "outputs": [],
   "source": [
    "from vgg_transfer import *\n",
    "from vgg_transfer import VGG_Transfer"
   ]
  },
  {
   "cell_type": "code",
   "execution_count": 14,
   "metadata": {},
   "outputs": [],
   "source": [
    "# Training parameter\n",
    "num_epochs = 3          \n",
    "batch_size = 16          \n",
    "seed = np.random.seed(123) "
   ]
  },
  {
   "cell_type": "code",
   "execution_count": 15,
   "metadata": {},
   "outputs": [
    {
     "name": "stdout",
     "output_type": "stream",
     "text": [
      "CUDA is supported\n"
     ]
    }
   ],
   "source": [
    "use_cuda = torch.cuda.is_available()\n",
    "\n",
    "if use_cuda:\n",
    "    computing_device = torch.device(\"cuda\")\n",
    "    extras = {\"num_workers\": 1, \"pin_memory\": True}\n",
    "    print(\"CUDA is supported\")\n",
    "else: \n",
    "    computing_device = torch.device(\"cpu\")\n",
    "    extras = False\n",
    "    print(\"CUDA NOT supported\")"
   ]
  },
  {
   "cell_type": "code",
   "execution_count": 16,
   "metadata": {},
   "outputs": [],
   "source": [
    "class channel_copy(object):\n",
    "    def __call__(self, img):\n",
    "        return torch.cat([img, img, img], 0)\n",
    "    \n",
    "transform = transforms.Compose([transforms.Resize(512), transforms.ToTensor(), channel_copy()])\n",
    "train_loader, val_loader, test_loader = create_split_loaders(batch_size, seed, transform = transform, \n",
    "                                                             p_val = 0.1, p_test = 0.2,\n",
    "                                                             shuffle = True, show_sample = False, \n",
    "                                                             extras = extras)"
   ]
  },
  {
   "cell_type": "code",
   "execution_count": 17,
   "metadata": {},
   "outputs": [],
   "source": [
    "model = torchvision.models.vgg16(pretrained = True)\n",
    "#vgg_transfer = VGG_Transfer(n_class = 14, finetuning = False)"
   ]
  },
  {
   "cell_type": "code",
   "execution_count": 18,
   "metadata": {},
   "outputs": [],
   "source": [
    "# Freeze model weights\n",
    "for param in model.parameters():\n",
    "    param.requires_grad = False"
   ]
  },
  {
   "cell_type": "code",
   "execution_count": 20,
   "metadata": {},
   "outputs": [],
   "source": [
    "# Customized last layer\n",
    "n_inputs = model.classifier[6].in_features\n",
    "model.classifier[6] = nn.Sequential(\n",
    "                      nn.Linear(n_inputs, 256), \n",
    "                      nn.ReLU(), \n",
    "                      nn.Dropout(0.4),\n",
    "                      nn.Linear(256, 14))"
   ]
  },
  {
   "cell_type": "code",
   "execution_count": 21,
   "metadata": {},
   "outputs": [],
   "source": [
    "from loss import *  \n",
    "\n",
    "model = model.to(computing_device)\n",
    "criterion = weighted_focal_loss()\n",
    "optimizer = optim.Adam(model.parameters(), lr = 0.001)"
   ]
  },
  {
   "cell_type": "code",
   "execution_count": 23,
   "metadata": {},
   "outputs": [
    {
     "name": "stdout",
     "output_type": "stream",
     "text": [
      "\n",
      "Dropout Rate:  0.4\n",
      "Epoch: 1 ! Average minibatch 25 loss: 0.699\n",
      "Epoch: 1 ! Average minibatch 50 loss: 0.697\n",
      "Epoch: 1 ! Average minibatch 75 loss: 0.699\n",
      "Epoch: 1 ! Average minibatch 100 loss: 0.699\n",
      "Epoch: 1 ! Average minibatch 125 loss: 0.697\n",
      "Epoch: 2 ! Average minibatch 25 loss: 0.699\n",
      "Epoch: 2 ! Average minibatch 50 loss: 0.698\n",
      "Epoch: 2 ! Average minibatch 75 loss: 0.699\n",
      "Epoch: 2 ! Average minibatch 100 loss: 0.699\n",
      "Epoch: 2 ! Average minibatch 125 loss: 0.697\n",
      "\n",
      "Dropout Rate:  0.55\n",
      "Epoch: 1 ! Average minibatch 25 loss: 0.696\n",
      "Epoch: 1 ! Average minibatch 50 loss: 0.697\n",
      "Epoch: 1 ! Average minibatch 75 loss: 0.696\n",
      "Epoch: 1 ! Average minibatch 100 loss: 0.695\n",
      "Epoch: 1 ! Average minibatch 125 loss: 0.696\n",
      "Epoch: 2 ! Average minibatch 25 loss: 0.695\n",
      "Epoch: 2 ! Average minibatch 50 loss: 0.696\n",
      "Epoch: 2 ! Average minibatch 75 loss: 0.697\n",
      "Epoch: 2 ! Average minibatch 100 loss: 0.696\n",
      "Epoch: 2 ! Average minibatch 125 loss: 0.696\n",
      "\n",
      "Dropout Rate:  0.7\n",
      "Epoch: 1 ! Average minibatch 25 loss: 0.693\n",
      "Epoch: 1 ! Average minibatch 50 loss: 0.694\n",
      "Epoch: 1 ! Average minibatch 75 loss: 0.697\n",
      "Epoch: 1 ! Average minibatch 100 loss: 0.693\n",
      "Epoch: 1 ! Average minibatch 125 loss: 0.697\n",
      "Epoch: 2 ! Average minibatch 25 loss: 0.695\n",
      "Epoch: 2 ! Average minibatch 50 loss: 0.697\n",
      "Epoch: 2 ! Average minibatch 75 loss: 0.698\n",
      "Epoch: 2 ! Average minibatch 100 loss: 0.695\n",
      "Epoch: 2 ! Average minibatch 125 loss: 0.694\n",
      "\n",
      "Dropout Rate:  0.85\n",
      "Epoch: 1 ! Average minibatch 25 loss: 0.700\n",
      "Epoch: 1 ! Average minibatch 50 loss: 0.697\n",
      "Epoch: 1 ! Average minibatch 75 loss: 0.700\n",
      "Epoch: 1 ! Average minibatch 100 loss: 0.700\n",
      "Epoch: 1 ! Average minibatch 125 loss: 0.699\n",
      "Epoch: 2 ! Average minibatch 25 loss: 0.699\n",
      "Epoch: 2 ! Average minibatch 50 loss: 0.700\n",
      "Epoch: 2 ! Average minibatch 75 loss: 0.697\n",
      "Epoch: 2 ! Average minibatch 100 loss: 0.699\n",
      "Epoch: 2 ! Average minibatch 125 loss: 0.698\n"
     ]
    }
   ],
   "source": [
    "# Dropout layer parameter tuning\n",
    "\n",
    "losses = []\n",
    "for dropout_rate in [0.40, 0.55, 0.7, 0.85]:\n",
    "    print(\"\\nDropout Rate: \", dropout_rate)\n",
    "    model = torchvision.models.vgg16(pretrained = True)\n",
    "    for param in model.parameters():\n",
    "        param.requires_grad = False\n",
    "    n_inputs = model.classifier[6].in_features\n",
    "    model.classifier[6] = nn.Sequential(\n",
    "                      nn.Linear(n_inputs, 256), \n",
    "                      nn.ReLU(), \n",
    "                      nn.Dropout(dropout_rate),\n",
    "                      nn.Linear(256, 14))\n",
    "    model = model.to(computing_device)\n",
    "    \n",
    "    total_loss = []\n",
    "    avg_minibatch_loss = []\n",
    "    epochs = 2\n",
    "    for epoch in range(epochs):\n",
    "        N = 25\n",
    "        N_minibatch_loss = 0.0 \n",
    "        for minibatch_count, (images, labels) in enumerate(val_loader, 0):\n",
    "\n",
    "            images, labels = images.to(computing_device), labels.to(computing_device)\n",
    "            optimizer.zero_grad()\n",
    "            outputs = model(images) # forward pass\n",
    "            loss = criterion(outputs, labels) # compute loss\n",
    "            loss.backward() # backprop\n",
    "            optimizer.step() # weight update\n",
    "\n",
    "            total_loss.append(loss.item())\n",
    "            N_minibatch_loss += loss\n",
    "\n",
    "            if (minibatch_count + 1) % N == 0:      \n",
    "                N_minibatch_loss /= N\n",
    "                print('Epoch: %d ! Average minibatch %d loss: %.3f' %\n",
    "                    (epoch + 1, minibatch_count + 1, N_minibatch_loss))\n",
    "                avg_minibatch_loss.append(N_minibatch_loss)\n",
    "                N_minibatch_loss = 0.0\n",
    "\n",
    "    losses.append(avg_minibatch_loss)"
   ]
  },
  {
   "cell_type": "code",
   "execution_count": 25,
   "metadata": {},
   "outputs": [],
   "source": [
    "model = torchvision.models.vgg16(pretrained = True)\n",
    "for param in model.parameters():\n",
    "    param.requires_grad = False\n",
    "n_inputs = model.classifier[6].in_features\n",
    "model.classifier[6] = nn.Sequential(\n",
    "                      nn.Linear(n_inputs, 256), \n",
    "                      nn.ReLU(), \n",
    "                      nn.Dropout(0.7),\n",
    "                      nn.Linear(256, 14))\n",
    "model = model.to(computing_device)"
   ]
  },
  {
   "cell_type": "code",
   "execution_count": 26,
   "metadata": {
    "scrolled": false
   },
   "outputs": [
    {
     "name": "stdout",
     "output_type": "stream",
     "text": [
      "Epoch: 1 ! Average minibatch 50 loss: 0.700\n",
      "Epoch: 1 ! Average minibatch 100 loss: 0.699\n",
      "Epoch: 1 ! Average minibatch 150 loss: 0.699\n",
      "Epoch: 1 ! Average minibatch 200 loss: 0.701\n",
      "Epoch: 1 ! Average minibatch 250 loss: 0.697\n",
      "Epoch: 1 ! Average minibatch 300 loss: 0.699\n",
      "Epoch: 1 ! Average minibatch 350 loss: 0.699\n",
      "Epoch: 1 ! Average minibatch 400 loss: 0.699\n",
      "Epoch: 1 ! Average minibatch 450 loss: 0.700\n",
      "Epoch: 1 ! Average minibatch 500 loss: 0.699\n",
      "Epoch: 1 ! Average minibatch 550 loss: 0.699\n",
      "Epoch: 1 ! Average minibatch 600 loss: 0.699\n",
      "Epoch: 1 ! Average minibatch 650 loss: 0.698\n",
      "Epoch: 1 ! Average minibatch 700 loss: 0.698\n",
      "Epoch: 1 ! Average minibatch 750 loss: 0.700\n",
      "Epoch: 1 ! Average minibatch 800 loss: 0.699\n",
      "Epoch: 1 ! Average minibatch 850 loss: 0.699\n",
      "Epoch: 1 ! Average minibatch 900 loss: 0.701\n",
      "Epoch: 1 ! Average minibatch 950 loss: 0.700\n",
      "Epoch: 1 ! Average minibatch 1000 loss: 0.699\n",
      "Finished 1 epochs of training\n",
      "Epoch: 2 ! Average minibatch 50 loss: 0.701\n",
      "Epoch: 2 ! Average minibatch 100 loss: 0.699\n",
      "Epoch: 2 ! Average minibatch 150 loss: 0.699\n",
      "Epoch: 2 ! Average minibatch 200 loss: 0.699\n",
      "Epoch: 2 ! Average minibatch 250 loss: 0.700\n",
      "Epoch: 2 ! Average minibatch 300 loss: 0.699\n",
      "Epoch: 2 ! Average minibatch 350 loss: 0.700\n",
      "Epoch: 2 ! Average minibatch 400 loss: 0.699\n",
      "Epoch: 2 ! Average minibatch 450 loss: 0.699\n",
      "Epoch: 2 ! Average minibatch 500 loss: 0.696\n",
      "Epoch: 2 ! Average minibatch 550 loss: 0.698\n",
      "Epoch: 2 ! Average minibatch 600 loss: 0.700\n",
      "Epoch: 2 ! Average minibatch 650 loss: 0.701\n",
      "Epoch: 2 ! Average minibatch 700 loss: 0.698\n",
      "Epoch: 2 ! Average minibatch 750 loss: 0.698\n",
      "Epoch: 2 ! Average minibatch 800 loss: 0.699\n",
      "Epoch: 2 ! Average minibatch 850 loss: 0.699\n",
      "Epoch: 2 ! Average minibatch 900 loss: 0.699\n",
      "Epoch: 2 ! Average minibatch 950 loss: 0.699\n",
      "Epoch: 2 ! Average minibatch 1000 loss: 0.700\n",
      "Finished 2 epochs of training\n",
      "Epoch: 3 ! Average minibatch 50 loss: 0.700\n",
      "Epoch: 3 ! Average minibatch 100 loss: 0.698\n",
      "Epoch: 3 ! Average minibatch 150 loss: 0.699\n",
      "Epoch: 3 ! Average minibatch 200 loss: 0.700\n",
      "Epoch: 3 ! Average minibatch 250 loss: 0.696\n",
      "Epoch: 3 ! Average minibatch 300 loss: 0.700\n",
      "Epoch: 3 ! Average minibatch 350 loss: 0.700\n",
      "Epoch: 3 ! Average minibatch 400 loss: 0.700\n",
      "Epoch: 3 ! Average minibatch 450 loss: 0.700\n",
      "Epoch: 3 ! Average minibatch 500 loss: 0.699\n",
      "Epoch: 3 ! Average minibatch 550 loss: 0.700\n",
      "Epoch: 3 ! Average minibatch 600 loss: 0.698\n",
      "Epoch: 3 ! Average minibatch 650 loss: 0.699\n",
      "Epoch: 3 ! Average minibatch 700 loss: 0.698\n",
      "Epoch: 3 ! Average minibatch 750 loss: 0.699\n",
      "Epoch: 3 ! Average minibatch 800 loss: 0.699\n",
      "Epoch: 3 ! Average minibatch 850 loss: 0.701\n",
      "Epoch: 3 ! Average minibatch 900 loss: 0.698\n",
      "Epoch: 3 ! Average minibatch 950 loss: 0.699\n",
      "Epoch: 3 ! Average minibatch 1000 loss: 0.699\n",
      "Finished 3 epochs of training\n",
      "Training complete after 3 epochs\n"
     ]
    }
   ],
   "source": [
    "# Training with best dropout rate\n",
    "\n",
    "total_loss = []\n",
    "avg_minibatch_loss = []\n",
    "\n",
    "for epoch in range(num_epochs):\n",
    "    N = 50\n",
    "    N_minibatch_loss = 0.0 \n",
    "    for minibatch_count, (images, labels) in enumerate(train_loader, 0):\n",
    "\n",
    "        images, labels = images.to(computing_device), labels.to(computing_device)\n",
    "        optimizer.zero_grad()\n",
    "        outputs = model(images) # forward pass\n",
    "        loss = criterion(outputs, labels) # compute loss\n",
    "        loss.backward() # backprop\n",
    "        optimizer.step() # weight update\n",
    "\n",
    "        total_loss.append(loss.item())\n",
    "        N_minibatch_loss += loss\n",
    "        \n",
    "        if (minibatch_count + 1) % N == 0:      \n",
    "            N_minibatch_loss /= N\n",
    "            print('Epoch: %d ! Average minibatch %d loss: %.3f' %\n",
    "                (epoch + 1, minibatch_count + 1, N_minibatch_loss))\n",
    "            avg_minibatch_loss.append(N_minibatch_loss)\n",
    "            N_minibatch_loss = 0.0\n",
    "\n",
    "    print(\"Finished\", epoch + 1, \"epochs of training\")\n",
    "print(\"Training complete after\", epoch + 1, \"epochs\")"
   ]
  },
  {
   "cell_type": "code",
   "execution_count": 49,
   "metadata": {},
   "outputs": [
    {
     "data": {
      "image/png": "[encoded data removed]",
      "text/plain": [
       "<Figure size 432x288 with 1 Axes>"
      ]
     },
     "metadata": {
      "needs_background": "light"
     },
     "output_type": "display_data"
    }
   ],
   "source": [
    "%matplotlib inline\n",
    "import matplotlib.pyplot as plt\n",
    "\n",
    "plt.ylabel('Average minibatch loss')\n",
    "plt.xlabel('Minibatches')\n",
    "plt.plot(avg_minibatch_loss)\n",
    "plt.savefig('Plots/vgg_loss.png')\n",
    "plt.show()"
   ]
  },
  {
   "cell_type": "code",
   "execution_count": 36,
   "metadata": {},
   "outputs": [],
   "source": [
    "# Testing the model\n",
    "\n",
    "from test import *\n",
    "from test import Test_Model"
   ]
  },
  {
   "cell_type": "code",
   "execution_count": 37,
   "metadata": {},
   "outputs": [],
   "source": [
    "labels_all = []\n",
    "predictions_all = []\n",
    "model.eval()\n",
    "with torch.no_grad():\n",
    "    for data in test_loader:\n",
    "        images, labels = data\n",
    "        images, labels = images.to(computing_device), labels.to(computing_device)\n",
    "        labels_all.append(labels)\n",
    "        output = model(images)\n",
    "        predictions = output > 0.5\n",
    "        predictions_all.append(predictions)\n",
    "\n",
    "labels = torch.cat(labels_all, 0)\n",
    "predctions = torch.cat(predictions_all, 0)\n",
    "test_res = Test_Model(predctions.float(), labels)\n",
    "accuracy = test_res.avg_accuracy().item()\n",
    "precision = test_res.avg_precision().item()\n",
    "recall = test_res.avg_recall().item()\n",
    "BCR = test_res.avg_BCR().item()"
   ]
  },
  {
   "cell_type": "code",
   "execution_count": 40,
   "metadata": {},
   "outputs": [
    {
     "name": "stdout",
     "output_type": "stream",
     "text": [
      "Test Statistics: \n",
      "Accuracy:  0.6561\n",
      "Precision:  0.2828\n",
      "Recall:  0.4604\n",
      "BCR:  0.3716\n"
     ]
    }
   ],
   "source": [
    "print(\"Test Statistics: \")\n",
    "print(\"Accuracy: \", accuracy)\n",
    "print(\"Precision: \", precision)\n",
    "print(\"Recall: \", recall)\n",
    "print(\"BCR: \", BCR)"
   ]
  },
  {
   "cell_type": "code",
   "execution_count": null,
   "metadata": {},
   "outputs": [],
   "source": []
  }
 ],
 "metadata": {
  "kernelspec": {
   "display_name": "Python 3",
   "language": "python",
   "name": "python3"
  },
  "language_info": {
   "codemirror_mode": {
    "name": "ipython",
    "version": 3
   },
   "file_extension": ".py",
   "mimetype": "text/x-python",
   "name": "python",
   "nbconvert_exporter": "python",
   "pygments_lexer": "ipython3",
   "version": "3.7.3"
  }
 },
 "nbformat": 4,
 "nbformat_minor": 2
}
