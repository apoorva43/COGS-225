{
 "cells": [
  {
   "cell_type": "code",
   "execution_count": 1,
   "metadata": {},
   "outputs": [],
   "source": [
    "# Transfer Learning with Resnet18\n",
    "\n",
    "import warnings\n",
    "warnings.simplefilter('ignore')"
   ]
  },
  {
   "cell_type": "code",
   "execution_count": 2,
   "metadata": {},
   "outputs": [],
   "source": [
    "from resnet_transfer import *\n",
    "from resnet_transfer import Resnet_18_Transfer"
   ]
  },
  {
   "cell_type": "code",
   "execution_count": 3,
   "metadata": {},
   "outputs": [],
   "source": [
    "# Training parameter\n",
    "num_epochs = 3           \n",
    "batch_size = 16          \n",
    "seed = np.random.seed(123) "
   ]
  },
  {
   "cell_type": "code",
   "execution_count": 4,
   "metadata": {},
   "outputs": [
    {
     "name": "stdout",
     "output_type": "stream",
     "text": [
      "CUDA is supported\n"
     ]
    }
   ],
   "source": [
    "use_cuda = torch.cuda.is_available()\n",
    "\n",
    "if use_cuda:\n",
    "    computing_device = torch.device(\"cuda\")\n",
    "    extras = {\"num_workers\": 1, \"pin_memory\": True}\n",
    "    print(\"CUDA is supported\")\n",
    "else: \n",
    "    computing_device = torch.device(\"cpu\")\n",
    "    extras = False\n",
    "    print(\"CUDA NOT supported\")"
   ]
  },
  {
   "cell_type": "code",
   "execution_count": 5,
   "metadata": {},
   "outputs": [],
   "source": [
    "class channel_copy(object):\n",
    "    def __call__(self, img):\n",
    "        return torch.cat([img, img, img], 0)\n",
    "    \n",
    "transform = transforms.Compose([transforms.Resize(512), transforms.ToTensor(), channel_copy()])\n",
    "train_loader, val_loader, test_loader = create_split_loaders(batch_size, seed, transform = transform, \n",
    "                                                             p_val = 0.1, p_test = 0.2,\n",
    "                                                             shuffle = True, show_sample = False, \n",
    "                                                             extras = extras)"
   ]
  },
  {
   "cell_type": "code",
   "execution_count": 6,
   "metadata": {},
   "outputs": [],
   "source": [
    "from loss import *\n",
    "\n",
    "model = Resnet_18_Transfer(num_classes = 14)\n",
    "model = model.to(computing_device)\n",
    "\n",
    "criterion = weighted_focal_loss()"
   ]
  },
  {
   "cell_type": "code",
   "execution_count": 7,
   "metadata": {},
   "outputs": [
    {
     "name": "stdout",
     "output_type": "stream",
     "text": [
      "\n",
      "Learning Rate:  0.1\n",
      "Epoch: 1 ! Average minibatch 25 loss: 3.289\n",
      "Epoch: 1 ! Average minibatch 50 loss: 1.614\n",
      "Epoch: 1 ! Average minibatch 75 loss: 1.367\n",
      "Epoch: 1 ! Average minibatch 100 loss: 0.879\n",
      "Epoch: 1 ! Average minibatch 125 loss: 0.745\n",
      "Epoch: 2 ! Average minibatch 25 loss: 0.966\n",
      "Epoch: 2 ! Average minibatch 50 loss: 0.602\n",
      "Epoch: 2 ! Average minibatch 75 loss: 0.492\n",
      "Epoch: 2 ! Average minibatch 100 loss: 0.979\n",
      "Epoch: 2 ! Average minibatch 125 loss: 0.977\n",
      "\n",
      "Learning Rate:  0.01\n",
      "Epoch: 1 ! Average minibatch 25 loss: 0.802\n",
      "Epoch: 1 ! Average minibatch 50 loss: 0.276\n",
      "Epoch: 1 ! Average minibatch 75 loss: 0.270\n",
      "Epoch: 1 ! Average minibatch 100 loss: 0.195\n",
      "Epoch: 1 ! Average minibatch 125 loss: 0.184\n",
      "Epoch: 2 ! Average minibatch 25 loss: 0.192\n",
      "Epoch: 2 ! Average minibatch 50 loss: 0.208\n",
      "Epoch: 2 ! Average minibatch 75 loss: 0.182\n",
      "Epoch: 2 ! Average minibatch 100 loss: 0.172\n",
      "Epoch: 2 ! Average minibatch 125 loss: 0.164\n",
      "\n",
      "Learning Rate:  0.001\n",
      "Epoch: 1 ! Average minibatch 25 loss: 0.195\n",
      "Epoch: 1 ! Average minibatch 50 loss: 0.142\n",
      "Epoch: 1 ! Average minibatch 75 loss: 0.144\n",
      "Epoch: 1 ! Average minibatch 100 loss: 0.124\n",
      "Epoch: 1 ! Average minibatch 125 loss: 0.129\n",
      "Epoch: 2 ! Average minibatch 25 loss: 0.133\n",
      "Epoch: 2 ! Average minibatch 50 loss: 0.129\n",
      "Epoch: 2 ! Average minibatch 75 loss: 0.138\n",
      "Epoch: 2 ! Average minibatch 100 loss: 0.110\n",
      "Epoch: 2 ! Average minibatch 125 loss: 0.142\n",
      "\n",
      "Learning Rate:  0.0001\n",
      "Epoch: 1 ! Average minibatch 25 loss: 0.125\n",
      "Epoch: 1 ! Average minibatch 50 loss: 0.135\n",
      "Epoch: 1 ! Average minibatch 75 loss: 0.128\n",
      "Epoch: 1 ! Average minibatch 100 loss: 0.122\n",
      "Epoch: 1 ! Average minibatch 125 loss: 0.125\n",
      "Epoch: 2 ! Average minibatch 25 loss: 0.123\n",
      "Epoch: 2 ! Average minibatch 50 loss: 0.134\n",
      "Epoch: 2 ! Average minibatch 75 loss: 0.126\n",
      "Epoch: 2 ! Average minibatch 100 loss: 0.126\n",
      "Epoch: 2 ! Average minibatch 125 loss: 0.116\n"
     ]
    }
   ],
   "source": [
    "# Hyperparameter tuning on the validation set\n",
    "\n",
    "losses = []\n",
    "for learning_rate in [0.1, 0.01, 0.001, 0.0001]:\n",
    "    print(\"\\nLearning Rate: \", learning_rate)\n",
    "    optimizer = optim.Adam(model.parameters(), lr = learning_rate)\n",
    "    total_loss = []\n",
    "    avg_minibatch_loss = []\n",
    "    epochs = 2\n",
    "    for epoch in range(epochs):\n",
    "        N = 25\n",
    "        N_minibatch_loss = 0.0 \n",
    "        for minibatch_count, (images, labels) in enumerate(val_loader, 0):\n",
    "\n",
    "            images, labels = images.to(computing_device), labels.to(computing_device)\n",
    "            optimizer.zero_grad()\n",
    "            outputs = model(images) # forward pass\n",
    "            loss = criterion(outputs, labels) # compute loss\n",
    "            loss.backward() # backprop\n",
    "            optimizer.step() # weight update\n",
    "\n",
    "            total_loss.append(loss.item())\n",
    "            N_minibatch_loss += loss\n",
    "\n",
    "            if (minibatch_count + 1) % N == 0:      \n",
    "                N_minibatch_loss /= N\n",
    "                print('Epoch: %d ! Average minibatch %d loss: %.3f' %\n",
    "                    (epoch + 1, minibatch_count + 1, N_minibatch_loss))\n",
    "                avg_minibatch_loss.append(N_minibatch_loss)\n",
    "                N_minibatch_loss = 0.0\n",
    "\n",
    "    losses.append(avg_minibatch_loss)  "
   ]
  },
  {
   "cell_type": "code",
   "execution_count": 9,
   "metadata": {},
   "outputs": [
    {
     "data": {
      "image/png": "[encoded data removed]",
      "text/plain": [
       "<Figure size 432x288 with 1 Axes>"
      ]
     },
     "metadata": {
      "needs_background": "light"
     },
     "output_type": "display_data"
    }
   ],
   "source": [
    "%matplotlib inline\n",
    "import matplotlib.pyplot as plt\n",
    "\n",
    "fig = plt.figure()\n",
    "ax = plt.subplot(111)\n",
    "ax.plot(losses[0], label = 'lr = 0.1')\n",
    "ax.plot(losses[1], label = 'lr = 0.01')\n",
    "ax.plot(losses[2], label = 'lr = 0.001')\n",
    "ax.plot(losses[3], label = 'lr = 0.0001')\n",
    "plt.ylabel('Validation Loss')\n",
    "plt.xlabel('Minibatches')\n",
    "plt.savefig('Plots/resnet_lr.png')\n",
    "ax.legend()\n",
    "plt.show()"
   ]
  },
  {
   "cell_type": "code",
   "execution_count": 10,
   "metadata": {},
   "outputs": [
    {
     "name": "stdout",
     "output_type": "stream",
     "text": [
      "\n",
      "Regularization Strength:  0.01\n",
      "Epoch: 1 ! Average minibatch 25 loss: 0.190\n",
      "Epoch: 1 ! Average minibatch 50 loss: 0.177\n",
      "Epoch: 1 ! Average minibatch 75 loss: 0.189\n",
      "Epoch: 1 ! Average minibatch 100 loss: 0.188\n",
      "Epoch: 1 ! Average minibatch 125 loss: 0.207\n",
      "Epoch: 2 ! Average minibatch 25 loss: 0.211\n",
      "Epoch: 2 ! Average minibatch 50 loss: 0.191\n",
      "Epoch: 2 ! Average minibatch 75 loss: 0.203\n",
      "Epoch: 2 ! Average minibatch 100 loss: 0.197\n",
      "Epoch: 2 ! Average minibatch 125 loss: 0.237\n",
      "\n",
      "Regularization Strength:  0.001\n",
      "Epoch: 1 ! Average minibatch 25 loss: 0.250\n",
      "Epoch: 1 ! Average minibatch 50 loss: 0.206\n",
      "Epoch: 1 ! Average minibatch 75 loss: 0.201\n",
      "Epoch: 1 ! Average minibatch 100 loss: 0.182\n",
      "Epoch: 1 ! Average minibatch 125 loss: 0.209\n",
      "Epoch: 2 ! Average minibatch 25 loss: 0.218\n",
      "Epoch: 2 ! Average minibatch 50 loss: 0.210\n",
      "Epoch: 2 ! Average minibatch 75 loss: 0.192\n",
      "Epoch: 2 ! Average minibatch 100 loss: 0.198\n",
      "Epoch: 2 ! Average minibatch 125 loss: 0.207\n",
      "\n",
      "Regularization Strength:  0.0001\n",
      "Epoch: 1 ! Average minibatch 25 loss: 0.229\n",
      "Epoch: 1 ! Average minibatch 50 loss: 0.184\n",
      "Epoch: 1 ! Average minibatch 75 loss: 0.185\n",
      "Epoch: 1 ! Average minibatch 100 loss: 0.205\n",
      "Epoch: 1 ! Average minibatch 125 loss: 0.200\n",
      "Epoch: 2 ! Average minibatch 25 loss: 0.216\n",
      "Epoch: 2 ! Average minibatch 50 loss: 0.209\n",
      "Epoch: 2 ! Average minibatch 75 loss: 0.182\n",
      "Epoch: 2 ! Average minibatch 100 loss: 0.210\n",
      "Epoch: 2 ! Average minibatch 125 loss: 0.197\n",
      "\n",
      "Regularization Strength:  1e-05\n",
      "Epoch: 1 ! Average minibatch 25 loss: 0.241\n",
      "Epoch: 1 ! Average minibatch 50 loss: 0.195\n",
      "Epoch: 1 ! Average minibatch 75 loss: 0.172\n",
      "Epoch: 1 ! Average minibatch 100 loss: 0.204\n",
      "Epoch: 1 ! Average minibatch 125 loss: 0.171\n",
      "Epoch: 2 ! Average minibatch 25 loss: 0.275\n",
      "Epoch: 2 ! Average minibatch 50 loss: 0.202\n",
      "Epoch: 2 ! Average minibatch 75 loss: 0.174\n",
      "Epoch: 2 ! Average minibatch 100 loss: 0.204\n",
      "Epoch: 2 ! Average minibatch 125 loss: 0.216\n"
     ]
    }
   ],
   "source": [
    "losses = []\n",
    "for weight_decay in [0.01, 0.001, 0.0001, 0.00001]:\n",
    "    print(\"\\nRegularization Strength: \", weight_decay)\n",
    "    optimizer = optim.Adam(model.parameters(), lr = 0.01, weight_decay = weight_decay)\n",
    "    total_loss = []\n",
    "    avg_minibatch_loss = []\n",
    "    epochs = 2\n",
    "    for epoch in range(epochs):\n",
    "        N = 25\n",
    "        N_minibatch_loss = 0.0 \n",
    "        for minibatch_count, (images, labels) in enumerate(val_loader, 0):\n",
    "\n",
    "            images, labels = images.to(computing_device), labels.to(computing_device)\n",
    "            optimizer.zero_grad()\n",
    "            outputs = model(images) # forward pass\n",
    "            loss = criterion(outputs, labels) # compute loss\n",
    "            loss.backward() # backprop\n",
    "            optimizer.step() # weight update\n",
    "\n",
    "            total_loss.append(loss.item())\n",
    "            N_minibatch_loss += loss\n",
    "\n",
    "            if (minibatch_count + 1) % N == 0:      \n",
    "                N_minibatch_loss /= N\n",
    "                print('Epoch: %d ! Average minibatch %d loss: %.3f' %\n",
    "                    (epoch + 1, minibatch_count + 1, N_minibatch_loss))\n",
    "                avg_minibatch_loss.append(N_minibatch_loss)\n",
    "                N_minibatch_loss = 0.0\n",
    "\n",
    "    losses.append(avg_minibatch_loss) "
   ]
  },
  {
   "cell_type": "code",
   "execution_count": 12,
   "metadata": {},
   "outputs": [
    {
     "name": "stdout",
     "output_type": "stream",
     "text": [
      "Epoch: 1 ! Average minibatch 50 loss: 0.267\n",
      "Epoch: 1 ! Average minibatch 100 loss: 0.202\n",
      "Epoch: 1 ! Average minibatch 150 loss: 0.199\n",
      "Epoch: 1 ! Average minibatch 200 loss: 0.210\n",
      "Epoch: 1 ! Average minibatch 250 loss: 0.199\n",
      "Epoch: 1 ! Average minibatch 300 loss: 0.184\n",
      "Epoch: 1 ! Average minibatch 350 loss: 0.193\n",
      "Epoch: 1 ! Average minibatch 400 loss: 0.198\n",
      "Epoch: 1 ! Average minibatch 450 loss: 0.208\n",
      "Epoch: 1 ! Average minibatch 500 loss: 0.203\n",
      "Epoch: 1 ! Average minibatch 550 loss: 0.193\n",
      "Epoch: 1 ! Average minibatch 600 loss: 0.196\n",
      "Epoch: 1 ! Average minibatch 650 loss: 0.197\n",
      "Epoch: 1 ! Average minibatch 700 loss: 0.208\n",
      "Epoch: 1 ! Average minibatch 750 loss: 0.212\n",
      "Epoch: 1 ! Average minibatch 800 loss: 0.204\n",
      "Epoch: 1 ! Average minibatch 850 loss: 0.195\n",
      "Epoch: 1 ! Average minibatch 900 loss: 0.235\n",
      "Epoch: 1 ! Average minibatch 950 loss: 0.230\n",
      "Epoch: 1 ! Average minibatch 1000 loss: 0.200\n",
      "Finished 1 epochs of training\n",
      "Epoch: 2 ! Average minibatch 50 loss: 0.205\n",
      "Epoch: 2 ! Average minibatch 100 loss: 0.198\n",
      "Epoch: 2 ! Average minibatch 150 loss: 0.197\n",
      "Epoch: 2 ! Average minibatch 200 loss: 0.183\n",
      "Epoch: 2 ! Average minibatch 250 loss: 0.187\n",
      "Epoch: 2 ! Average minibatch 300 loss: 0.216\n",
      "Epoch: 2 ! Average minibatch 350 loss: 0.210\n",
      "Epoch: 2 ! Average minibatch 400 loss: 0.196\n",
      "Epoch: 2 ! Average minibatch 450 loss: 0.182\n",
      "Epoch: 2 ! Average minibatch 500 loss: 0.176\n",
      "Epoch: 2 ! Average minibatch 550 loss: 0.194\n",
      "Epoch: 2 ! Average minibatch 600 loss: 0.200\n",
      "Epoch: 2 ! Average minibatch 650 loss: 0.197\n",
      "Epoch: 2 ! Average minibatch 700 loss: 0.214\n",
      "Epoch: 2 ! Average minibatch 750 loss: 0.205\n",
      "Epoch: 2 ! Average minibatch 800 loss: 0.200\n",
      "Epoch: 2 ! Average minibatch 850 loss: 0.182\n",
      "Epoch: 2 ! Average minibatch 900 loss: 0.222\n",
      "Epoch: 2 ! Average minibatch 950 loss: 0.205\n",
      "Epoch: 2 ! Average minibatch 1000 loss: 0.215\n",
      "Finished 2 epochs of training\n",
      "Epoch: 3 ! Average minibatch 50 loss: 0.194\n",
      "Epoch: 3 ! Average minibatch 100 loss: 0.189\n",
      "Epoch: 3 ! Average minibatch 150 loss: 0.196\n",
      "Epoch: 3 ! Average minibatch 200 loss: 0.181\n",
      "Epoch: 3 ! Average minibatch 250 loss: 0.182\n",
      "Epoch: 3 ! Average minibatch 300 loss: 0.204\n",
      "Epoch: 3 ! Average minibatch 350 loss: 0.195\n",
      "Epoch: 3 ! Average minibatch 400 loss: 0.182\n",
      "Epoch: 3 ! Average minibatch 450 loss: 0.209\n",
      "Epoch: 3 ! Average minibatch 500 loss: 0.192\n",
      "Epoch: 3 ! Average minibatch 550 loss: 0.185\n",
      "Epoch: 3 ! Average minibatch 600 loss: 0.212\n",
      "Epoch: 3 ! Average minibatch 650 loss: 0.202\n",
      "Epoch: 3 ! Average minibatch 700 loss: 0.180\n",
      "Epoch: 3 ! Average minibatch 750 loss: 0.204\n",
      "Epoch: 3 ! Average minibatch 800 loss: 0.215\n",
      "Epoch: 3 ! Average minibatch 850 loss: 0.185\n",
      "Epoch: 3 ! Average minibatch 900 loss: 0.189\n",
      "Epoch: 3 ! Average minibatch 950 loss: 0.226\n",
      "Epoch: 3 ! Average minibatch 1000 loss: 0.187\n",
      "Finished 3 epochs of training\n",
      "Training complete after 3 epochs\n"
     ]
    }
   ],
   "source": [
    "# Training the model on best hyperparameters\n",
    "\n",
    "total_loss = []\n",
    "avg_minibatch_loss = []\n",
    "optimizer = optim.Adam(model.parameters(), lr = 0.01, weight_decay = 0.0001) \n",
    "for epoch in range(num_epochs):\n",
    "    N = 50\n",
    "    N_minibatch_loss = 0.0 \n",
    "    for minibatch_count, (images, labels) in enumerate(train_loader, 0):\n",
    "\n",
    "        images, labels = images.to(computing_device), labels.to(computing_device)\n",
    "        optimizer.zero_grad()\n",
    "        outputs = model(images) # forward pass\n",
    "        loss = criterion(outputs, labels) # compute loss\n",
    "        loss.backward() # backprop\n",
    "        optimizer.step() # weight update\n",
    "\n",
    "        total_loss.append(loss.item())\n",
    "        N_minibatch_loss += loss\n",
    "        \n",
    "        if (minibatch_count + 1) % N == 0:      \n",
    "            N_minibatch_loss /= N\n",
    "            print('Epoch: %d ! Average minibatch %d loss: %.3f' %\n",
    "                (epoch + 1, minibatch_count + 1, N_minibatch_loss))\n",
    "            avg_minibatch_loss.append(N_minibatch_loss)\n",
    "            N_minibatch_loss = 0.0\n",
    "\n",
    "    print(\"Finished\", epoch + 1, \"epochs of training\")\n",
    "print(\"Training complete after\", epoch + 1, \"epochs\")"
   ]
  },
  {
   "cell_type": "code",
   "execution_count": 25,
   "metadata": {},
   "outputs": [
    {
     "data": {
      "image/png": "[encoded data removed]",
      "text/plain": [
       "<Figure size 432x288 with 1 Axes>"
      ]
     },
     "metadata": {
      "needs_background": "light"
     },
     "output_type": "display_data"
    }
   ],
   "source": [
    "%matplotlib inline\n",
    "import matplotlib.pyplot as plt\n",
    "\n",
    "plt.ylabel('Average minibatch loss')\n",
    "plt.xlabel('Minibatches')\n",
    "plt.plot(avg_minibatch_loss)\n",
    "plt.savefig('Plots/resnet_loss.png')\n",
    "plt.show()"
   ]
  },
  {
   "cell_type": "code",
   "execution_count": 26,
   "metadata": {},
   "outputs": [],
   "source": [
    "# Testing the model\n",
    "\n",
    "from test import *\n",
    "from test import Test_Model"
   ]
  },
  {
   "cell_type": "code",
   "execution_count": 27,
   "metadata": {},
   "outputs": [],
   "source": [
    "labels_all = []\n",
    "predictions_all = []\n",
    "model.eval()\n",
    "with torch.no_grad():\n",
    "    for data in test_loader:\n",
    "        images, labels = data\n",
    "        images, labels = images.to(computing_device), labels.to(computing_device)\n",
    "        labels_all.append(labels)\n",
    "        output = model(images)\n",
    "        predictions = output > 0.5\n",
    "        predictions_all.append(predictions)\n",
    "\n",
    "labels = torch.cat(labels_all, 0)\n",
    "predctions = torch.cat(predictions_all, 0)\n",
    "test_res = Test_Model(predctions.float(), labels)\n",
    "accuracy = test_res.avg_accuracy().item()\n",
    "precision = test_res.avg_precision().item()\n",
    "recall = test_res.avg_recall().item()\n",
    "BCR = test_res.avg_BCR().item()"
   ]
  },
  {
   "cell_type": "code",
   "execution_count": 32,
   "metadata": {},
   "outputs": [
    {
     "name": "stdout",
     "output_type": "stream",
     "text": [
      "Test Statistics: \n",
      "Accuracy:  0.7035\n",
      "Precision:  0.3032\n",
      "Recall:  0.4888\n",
      "BCR:  0.396\n"
     ]
    }
   ],
   "source": [
    "print(\"Test Statistics: \")\n",
    "print(\"Accuracy: \", accuracy)\n",
    "print(\"Precision: \", precision)\n",
    "print(\"Recall: \", recall)\n",
    "print(\"BCR: \", BCR)"
   ]
  },
  {
   "cell_type": "code",
   "execution_count": null,
   "metadata": {},
   "outputs": [],
   "source": []
  }
 ],
 "metadata": {
  "kernelspec": {
   "display_name": "Python 3",
   "language": "python",
   "name": "python3"
  },
  "language_info": {
   "codemirror_mode": {
    "name": "ipython",
    "version": 3
   },
   "file_extension": ".py",
   "mimetype": "text/x-python",
   "name": "python",
   "nbconvert_exporter": "python",
   "pygments_lexer": "ipython3",
   "version": "3.7.3"
  }
 },
 "nbformat": 4,
 "nbformat_minor": 2
}
