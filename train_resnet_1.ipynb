{
 "cells": [
  {
   "cell_type": "code",
   "execution_count": 1,
   "metadata": {},
   "outputs": [],
   "source": [
    "import warnings\n",
    "warnings.simplefilter('ignore')"
   ]
  },
  {
   "cell_type": "code",
   "execution_count": 2,
   "metadata": {},
   "outputs": [],
   "source": [
    "from resnet_transfer import *\n",
    "from resnet_transfer import Resnet_18_Transfer"
   ]
  },
  {
   "cell_type": "code",
   "execution_count": 3,
   "metadata": {},
   "outputs": [],
   "source": [
    "# Training parameter\n",
    "num_epochs = 3           \n",
    "batch_size = 16          \n",
    "seed = np.random.seed(1234) "
   ]
  },
  {
   "cell_type": "code",
   "execution_count": 4,
   "metadata": {},
   "outputs": [
    {
     "name": "stdout",
     "output_type": "stream",
     "text": [
      "CUDA is supported\n"
     ]
    }
   ],
   "source": [
    "use_cuda = torch.cuda.is_available()\n",
    "\n",
    "if use_cuda:\n",
    "    computing_device = torch.device(\"cuda\")\n",
    "    extras = {\"num_workers\": 1, \"pin_memory\": True}\n",
    "    print(\"CUDA is supported\")\n",
    "else: \n",
    "    computing_device = torch.device(\"cpu\")\n",
    "    extras = False\n",
    "    print(\"CUDA NOT supported\")"
   ]
  },
  {
   "cell_type": "code",
   "execution_count": 5,
   "metadata": {},
   "outputs": [],
   "source": [
    "class channel_copy(object):\n",
    "    def __call__(self, img):\n",
    "        return torch.cat([img, img, img], 0)\n",
    "    \n",
    "transform = transforms.Compose([transforms.Resize(512), transforms.ToTensor(), channel_copy()])\n",
    "train_loader, val_loader, test_loader = create_split_loaders(batch_size, seed, transform = transform, \n",
    "                                                             p_val = 0.1, p_test = 0.2,\n",
    "                                                             shuffle = True, show_sample = False, \n",
    "                                                             extras = extras)"
   ]
  },
  {
   "cell_type": "code",
   "execution_count": 6,
   "metadata": {},
   "outputs": [],
   "source": [
    "from loss import *\n",
    "\n",
    "model = Resnet_18_Transfer(num_classes = 14)\n",
    "model = model.to(computing_device)\n",
    "\n",
    "criterion = torch.nn.MultiLabelSoftMarginLoss()\n",
    "optimizer = optim.Adam(model.parameters(), lr = 0.001)"
   ]
  },
  {
   "cell_type": "code",
   "execution_count": 7,
   "metadata": {},
   "outputs": [
    {
     "name": "stdout",
     "output_type": "stream",
     "text": [
      "Epoch: 1 ! Average minibatch 50 loss: 0.210\n",
      "Epoch: 1 ! Average minibatch 100 loss: 0.164\n",
      "Epoch: 1 ! Average minibatch 150 loss: 0.168\n",
      "Epoch: 1 ! Average minibatch 200 loss: 0.169\n",
      "Epoch: 1 ! Average minibatch 250 loss: 0.167\n",
      "Epoch: 1 ! Average minibatch 300 loss: 0.178\n",
      "Epoch: 1 ! Average minibatch 350 loss: 0.169\n",
      "Epoch: 1 ! Average minibatch 400 loss: 0.165\n",
      "Epoch: 1 ! Average minibatch 450 loss: 0.166\n",
      "Epoch: 1 ! Average minibatch 500 loss: 0.157\n",
      "Epoch: 1 ! Average minibatch 550 loss: 0.161\n",
      "Epoch: 1 ! Average minibatch 600 loss: 0.172\n",
      "Epoch: 1 ! Average minibatch 650 loss: 0.167\n",
      "Epoch: 1 ! Average minibatch 700 loss: 0.170\n",
      "Epoch: 1 ! Average minibatch 750 loss: 0.161\n",
      "Epoch: 1 ! Average minibatch 800 loss: 0.159\n",
      "Epoch: 1 ! Average minibatch 850 loss: 0.181\n",
      "Epoch: 1 ! Average minibatch 900 loss: 0.161\n",
      "Epoch: 1 ! Average minibatch 950 loss: 0.167\n",
      "Epoch: 1 ! Average minibatch 1000 loss: 0.170\n",
      "Finished 1 epochs of training\n",
      "Epoch: 2 ! Average minibatch 50 loss: 0.163\n",
      "Epoch: 2 ! Average minibatch 100 loss: 0.169\n",
      "Epoch: 2 ! Average minibatch 150 loss: 0.151\n",
      "Epoch: 2 ! Average minibatch 200 loss: 0.171\n",
      "Epoch: 2 ! Average minibatch 250 loss: 0.166\n",
      "Epoch: 2 ! Average minibatch 300 loss: 0.156\n",
      "Epoch: 2 ! Average minibatch 350 loss: 0.164\n",
      "Epoch: 2 ! Average minibatch 400 loss: 0.161\n",
      "Epoch: 2 ! Average minibatch 450 loss: 0.165\n",
      "Epoch: 2 ! Average minibatch 500 loss: 0.167\n",
      "Epoch: 2 ! Average minibatch 550 loss: 0.161\n",
      "Epoch: 2 ! Average minibatch 600 loss: 0.160\n",
      "Epoch: 2 ! Average minibatch 650 loss: 0.157\n",
      "Epoch: 2 ! Average minibatch 700 loss: 0.160\n",
      "Epoch: 2 ! Average minibatch 750 loss: 0.164\n",
      "Epoch: 2 ! Average minibatch 800 loss: 0.151\n",
      "Epoch: 2 ! Average minibatch 850 loss: 0.150\n",
      "Epoch: 2 ! Average minibatch 900 loss: 0.164\n",
      "Epoch: 2 ! Average minibatch 950 loss: 0.165\n",
      "Epoch: 2 ! Average minibatch 1000 loss: 0.159\n",
      "Finished 2 epochs of training\n",
      "Epoch: 3 ! Average minibatch 50 loss: 0.149\n",
      "Epoch: 3 ! Average minibatch 100 loss: 0.160\n",
      "Epoch: 3 ! Average minibatch 150 loss: 0.153\n",
      "Epoch: 3 ! Average minibatch 200 loss: 0.167\n",
      "Epoch: 3 ! Average minibatch 250 loss: 0.162\n",
      "Epoch: 3 ! Average minibatch 300 loss: 0.159\n",
      "Epoch: 3 ! Average minibatch 350 loss: 0.160\n",
      "Epoch: 3 ! Average minibatch 400 loss: 0.160\n",
      "Epoch: 3 ! Average minibatch 450 loss: 0.162\n",
      "Epoch: 3 ! Average minibatch 500 loss: 0.165\n",
      "Epoch: 3 ! Average minibatch 550 loss: 0.160\n",
      "Epoch: 3 ! Average minibatch 600 loss: 0.158\n",
      "Epoch: 3 ! Average minibatch 650 loss: 0.170\n",
      "Epoch: 3 ! Average minibatch 700 loss: 0.156\n",
      "Epoch: 3 ! Average minibatch 750 loss: 0.155\n",
      "Epoch: 3 ! Average minibatch 800 loss: 0.153\n",
      "Epoch: 3 ! Average minibatch 850 loss: 0.158\n",
      "Epoch: 3 ! Average minibatch 900 loss: 0.154\n",
      "Epoch: 3 ! Average minibatch 950 loss: 0.159\n",
      "Epoch: 3 ! Average minibatch 1000 loss: 0.159\n",
      "Finished 3 epochs of training\n",
      "Training complete after 2 epochs\n"
     ]
    }
   ],
   "source": [
    "total_loss = []\n",
    "avg_minibatch_loss = []\n",
    "\n",
    "for epoch in range(num_epochs):\n",
    "    N = 50\n",
    "    N_minibatch_loss = 0.0 \n",
    "    for minibatch_count, (images, labels) in enumerate(train_loader, 0):\n",
    "\n",
    "        images, labels = images.to(computing_device), labels.to(computing_device)\n",
    "        optimizer.zero_grad()\n",
    "        outputs = model(images) # forward pass\n",
    "        loss = criterion(outputs, labels) # compute loss\n",
    "        loss.backward() # backprop\n",
    "        optimizer.step() # weight update\n",
    "\n",
    "        total_loss.append(loss.item())\n",
    "        N_minibatch_loss += loss\n",
    "        \n",
    "        if (minibatch_count + 1) % N == 0:      \n",
    "            N_minibatch_loss /= N\n",
    "            print('Epoch: %d ! Average minibatch %d loss: %.3f' %\n",
    "                (epoch + 1, minibatch_count + 1, N_minibatch_loss))\n",
    "            avg_minibatch_loss.append(N_minibatch_loss)\n",
    "            N_minibatch_loss = 0.0\n",
    "\n",
    "    print(\"Finished\", epoch + 1, \"epochs of training\")\n",
    "print(\"Training complete after\", epoch, \"epochs\")"
   ]
  },
  {
   "cell_type": "code",
   "execution_count": 9,
   "metadata": {},
   "outputs": [
    {
     "data": {
      "image/png": "[encoded data removed]",
      "text/plain": [
       "<Figure size 432x288 with 1 Axes>"
      ]
     },
     "metadata": {
      "needs_background": "light"
     },
     "output_type": "display_data"
    }
   ],
   "source": [
    "%matplotlib inline\n",
    "import matplotlib.pyplot as plt\n",
    "\n",
    "plt.ylabel('Average minibatch loss')\n",
    "plt.xlabel('Minibatch')\n",
    "plt.plot(avg_minibatch_loss)\n",
    "plt.savefig('Plots/fig_3_1.png')\n",
    "plt.show()"
   ]
  },
  {
   "cell_type": "code",
   "execution_count": 11,
   "metadata": {},
   "outputs": [],
   "source": [
    "from test import *\n",
    "from test import Test_Model"
   ]
  },
  {
   "cell_type": "code",
   "execution_count": 12,
   "metadata": {},
   "outputs": [
    {
     "name": "stdout",
     "output_type": "stream",
     "text": [
      "Classwise statistics: \n",
      "Accuracy:  tensor([0.9093, 0.9663, 0.9071, 0.8526, 0.9656, 0.9527, 0.9854, 0.9633, 0.9683,\n",
      "        0.9874, 0.9799, 0.9760, 0.9695, 0.9970], device='cuda:0',\n",
      "       dtype=torch.float64)\n",
      "Precision:  tensor([0., 0., 0., 0., 0., 0., 0., 0., 0., 0., 0., 0., 0., 0.],\n",
      "       device='cuda:0', dtype=torch.float64)\n",
      "Recall:  tensor([0., 0., 0., 0., 0., 0., 0., 0., 0., 0., 0., 0., 0., 0.],\n",
      "       device='cuda:0', dtype=torch.float64)\n",
      "BCR:  tensor([0., 0., 0., 0., 0., 0., 0., 0., 0., 0., 0., 0., 0., 0.],\n",
      "       device='cuda:0', dtype=torch.float64)\n",
      "Overall statistics: \n",
      "Average accuracy:  tensor(0.9557, device='cuda:0', dtype=torch.float64)\n",
      "Average precision:  tensor(0., device='cuda:0', dtype=torch.float64)\n",
      "Average recall:  tensor(0., device='cuda:0', dtype=torch.float64)\n",
      "Average BCR:  tensor(0., device='cuda:0', dtype=torch.float64)\n"
     ]
    }
   ],
   "source": [
    "labels_all = []\n",
    "predictions_all = []\n",
    "model.eval()\n",
    "with torch.no_grad():\n",
    "    for data in test_loader:\n",
    "        images, labels = data\n",
    "        images, labels = images.to(computing_device), labels.to(computing_device)\n",
    "        labels_all.append(labels)\n",
    "        output = model(images)\n",
    "        predictions = output > 0.5\n",
    "        predictions_all.append(predictions)\n",
    "\n",
    "labels = torch.cat(labels_all, 0)\n",
    "predctions = torch.cat(predictions_all, 0)\n",
    "test_res = Test_Model(predctions.float(), labels)\n",
    "test_res.test_mod()"
   ]
  },
  {
   "cell_type": "code",
   "execution_count": null,
   "metadata": {},
   "outputs": [],
   "source": []
  }
 ],
 "metadata": {
  "kernelspec": {
   "display_name": "Python 3",
   "language": "python",
   "name": "python3"
  },
  "language_info": {
   "codemirror_mode": {
    "name": "ipython",
    "version": 3
   },
   "file_extension": ".py",
   "mimetype": "text/x-python",
   "name": "python",
   "nbconvert_exporter": "python",
   "pygments_lexer": "ipython3",
   "version": "3.7.3"
  }
 },
 "nbformat": 4,
 "nbformat_minor": 2
}
